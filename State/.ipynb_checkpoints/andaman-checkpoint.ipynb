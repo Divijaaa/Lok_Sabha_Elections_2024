{
 "cells": [
  {
   "cell_type": "code",
   "execution_count": 1,
   "id": "ab17884c",
   "metadata": {},
   "outputs": [],
   "source": [
    "from selenium import webdriver\n",
    "from selenium.webdriver.common.by import By\n",
    "from selenium.webdriver.chrome.service import Service\n",
    "from selenium.webdriver.support.ui import WebDriverWait\n",
    "from selenium.webdriver.support import expected_conditions as EC\n",
    "from webdriver_manager.chrome import ChromeDriverManager\n",
    "import pandas as pd"
   ]
  },
  {
   "cell_type": "code",
   "execution_count": 2,
   "id": "69e6b5aa",
   "metadata": {},
   "outputs": [],
   "source": [
    "service = Service(ChromeDriverManager().install())\n",
    "driver = webdriver.Chrome(service=service)"
   ]
  },
  {
   "cell_type": "code",
   "execution_count": 18,
   "id": "60ac6fbd",
   "metadata": {},
   "outputs": [],
   "source": [
    "# Open the ECI results page\n",
    "driver.get(\"https://results.eci.gov.in/PcResultGenJune2024/index.htm\")"
   ]
  },
  {
   "cell_type": "code",
   "execution_count": 19,
   "id": "2df6ccdb",
   "metadata": {},
   "outputs": [],
   "source": [
    "# Wait for the dropdown element to be clickable and click on it\n",
    "dropdown = WebDriverWait(driver, 10).until(\n",
    "    EC.element_to_be_clickable((By.XPATH, '//*[@id=\"ctl00_ContentPlaceHolder1_Result1_ddlState\"]'))\n",
    ")\n",
    "dropdown.click()"
   ]
  },
  {
   "cell_type": "code",
   "execution_count": 20,
   "id": "ee9db473",
   "metadata": {},
   "outputs": [],
   "source": [
    "# Select the desired state from the dropdown\n",
    "state_option = WebDriverWait(driver, 10).until(\n",
    "    EC.element_to_be_clickable((By.XPATH, \"/html/body/main/div/section/div/div[2]/div[1]/div/div[1]/div/select\"))\n",
    ")\n",
    "state_option.send_keys('Andaman & Nicobar Islands')\n",
    "state_option.click()"
   ]
  },
  {
   "cell_type": "code",
   "execution_count": 21,
   "id": "1956710e",
   "metadata": {},
   "outputs": [],
   "source": [
    "\n",
    "# Wait for the link to the results to be clickable and click on it\n",
    "c = WebDriverWait(driver, 10).until(\n",
    "    EC.element_to_be_clickable((By.XPATH, '//*[@id=\"ctl00_ContentPlaceHolder1_Result1_ddlState\"]/option[2]'))\n",
    ") \n",
    "c.click()  \n",
    "\n",
    "# Wait for the link to the results to be clickable and click on it\n",
    "results_links = WebDriverWait(driver, 10).until(\n",
    "    EC.element_to_be_clickable((By.XPATH, '/html/body/main/div/div[2]/div[2]/ul/li[2]/a/img'))\n",
    ")\n",
    "results_links.click()\n",
    "\n",
    "# Wait for the table containing the results to be visible\n",
    "results_table = WebDriverWait(driver, 10).until(\n",
    "    EC.visibility_of_element_located((By.CLASS_NAME, \"table-responsive\"))\n",
    ")\n"
   ]
  },
  {
   "cell_type": "code",
   "execution_count": 22,
   "id": "faa3463c",
   "metadata": {},
   "outputs": [],
   "source": [
    "# Extract data from the table\n",
    "rows = results_table.find_elements(By.TAG_NAME, \"tr\")\n",
    "party_results = []"
   ]
  },
  {
   "cell_type": "code",
   "execution_count": 23,
   "id": "55f7296b",
   "metadata": {},
   "outputs": [],
   "source": [
    "for row in rows[1:]:  # Skip the header row\n",
    "    cols = row.find_elements(By.TAG_NAME, \"td\")\n",
    "    if cols:\n",
    "        sn = cols[0].text.strip()\n",
    "        c = cols[1].text.strip()\n",
    "        p = cols[2].text.strip()\n",
    "        evm = cols[3].text.strip()\n",
    "        pv = cols[4].text.strip()\n",
    "        tv = cols[5].text.strip()\n",
    "        ov = cols[6].text.strip()\n",
    "        party_results.append({'S.No': sn, 'Candidate': c, 'Party': p, 'EVM Votes': evm, 'Postal Votes': pv, 'Total Votes': tv, 'Percentage of votes': ov})\n"
   ]
  },
  {
   "cell_type": "code",
   "execution_count": 24,
   "id": "81a9bb95",
   "metadata": {},
   "outputs": [],
   "source": [
    "# Convert the results to a DataFrame\n",
    "df = pd.DataFrame(party_results)"
   ]
  },
  {
   "cell_type": "code",
   "execution_count": 26,
   "id": "be3949e7",
   "metadata": {},
   "outputs": [],
   "source": [
    "# Save the DataFrame to a CSV file\n",
    "df.to_csv('Andaman & Nicobar Islands.csv', index=False)"
   ]
  },
  {
   "cell_type": "code",
   "execution_count": 16,
   "id": "6d5eeceb",
   "metadata": {},
   "outputs": [],
   "source": [
    "# Close the WebDriver\n",
    "driver.quit()"
   ]
  },
  {
   "cell_type": "code",
   "execution_count": null,
   "id": "3882a372",
   "metadata": {},
   "outputs": [],
   "source": []
  }
 ],
 "metadata": {
  "kernelspec": {
   "display_name": "Python 3 (ipykernel)",
   "language": "python",
   "name": "python3"
  },
  "language_info": {
   "codemirror_mode": {
    "name": "ipython",
    "version": 3
   },
   "file_extension": ".py",
   "mimetype": "text/x-python",
   "name": "python",
   "nbconvert_exporter": "python",
   "pygments_lexer": "ipython3",
   "version": "3.12.4"
  }
 },
 "nbformat": 4,
 "nbformat_minor": 5
}
